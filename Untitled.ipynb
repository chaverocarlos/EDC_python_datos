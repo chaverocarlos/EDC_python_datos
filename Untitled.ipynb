{
 "cells": [
  {
   "cell_type": "markdown",
   "id": "ff51ba91",
   "metadata": {},
   "source": [
    "# Variables en phyton"
   ]
  },
  {
   "cell_type": "code",
   "execution_count": 1,
   "id": "2dbe95e6",
   "metadata": {},
   "outputs": [
    {
     "name": "stdout",
     "output_type": "stream",
     "text": [
      "Hola mundo\n"
     ]
    }
   ],
   "source": [
    "print(\"Hola mundo\")"
   ]
  },
  {
   "cell_type": "code",
   "execution_count": 2,
   "id": "29c31774",
   "metadata": {},
   "outputs": [],
   "source": [
    "variable1 = 5\n",
    "variable2 = 9"
   ]
  },
  {
   "cell_type": "code",
   "execution_count": 4,
   "id": "9f38ed81",
   "metadata": {},
   "outputs": [
    {
     "data": {
      "text/plain": [
       "9"
      ]
     },
     "execution_count": 4,
     "metadata": {},
     "output_type": "execute_result"
    }
   ],
   "source": [
    "variable2"
   ]
  },
  {
   "cell_type": "code",
   "execution_count": 5,
   "id": "15dc498e",
   "metadata": {},
   "outputs": [],
   "source": [
    "resultado = variable1 + variable2"
   ]
  },
  {
   "cell_type": "code",
   "execution_count": 6,
   "id": "f18bcaf6",
   "metadata": {},
   "outputs": [
    {
     "data": {
      "text/plain": [
       "14"
      ]
     },
     "execution_count": 6,
     "metadata": {},
     "output_type": "execute_result"
    }
   ],
   "source": [
    "resultado"
   ]
  },
  {
   "cell_type": "code",
   "execution_count": 14,
   "id": "4abd1551",
   "metadata": {},
   "outputs": [
    {
     "name": "stdout",
     "output_type": "stream",
     "text": [
      "Hola mundo\n"
     ]
    }
   ],
   "source": [
    "a = \"Hola\"\n",
    "b = \"mundo\"\n",
    "# Concatena (junta) a y b\n",
    "print(a+\" \"+b)\n",
    "# print(a+\" \"+b+resultado)"
   ]
  },
  {
   "cell_type": "code",
   "execution_count": 15,
   "id": "4f17afe3",
   "metadata": {},
   "outputs": [
    {
     "name": "stdout",
     "output_type": "stream",
     "text": [
      "El resultado es : 14\n"
     ]
    }
   ],
   "source": [
    "# str() convierte una variable a cadena\n",
    "# int() convierte una variable a entero\n",
    "# float() convierte una variable a flotante\n",
    "print(\"El resultado es : \"+str(resultado))"
   ]
  },
  {
   "cell_type": "code",
   "execution_count": 3,
   "id": "39ad2dea",
   "metadata": {},
   "outputs": [],
   "source": [
    "# type() te dice el tipo de dato\n",
    "x = 5\n",
    "y = 9.9\n",
    "z = \"Hola\"\n",
    "w = 0.0\n",
    "r = x+w\n",
    "r"
   ]
  },
  {
   "cell_type": "code",
   "execution_count": 4,
   "id": "4e273f66",
   "metadata": {},
   "outputs": [
    {
     "name": "stdout",
     "output_type": "stream",
     "text": [
      "La suma es: 14.9\n",
      "La resta es: -4.9\n",
      "La multiplicacion entre 5 y 9.9 es: 49.5\n"
     ]
    }
   ],
   "source": [
    "suma = x+y\n",
    "resta = x-y\n",
    "multiplicacion = x*y\n",
    "division = x/y\n",
    "potencia = x**8\n",
    "print(\"La suma es: \"+str(suma))\n",
    "print(\"La resta es: \"+str(resta))\n",
    "# La multiplicacion esntre 5 y 9.9 es: resultado\n",
    "print(\"La multiplicacion entre \"+str(x)+\" y \"+str(y)+\" es: \"+str(multiplicacion))"
   ]
  },
  {
   "cell_type": "code",
   "execution_count": 8,
   "id": "b3a4a5cd",
   "metadata": {},
   "outputs": [
    {
     "name": "stdout",
     "output_type": "stream",
     "text": [
      "Dame el valor de a: 2\n",
      "Dame el valor de b: 3\n",
      "El resultado es: 5\n"
     ]
    }
   ],
   "source": [
    "# Como pedir valores desde el teclado\n",
    "# input -> pide un valor desde el teclado\n",
    "# almacena la entrada del teclado como un string\n",
    "# int() -> convierte una variable a entero\n",
    "a = int(input(\"Dame el valor de a: \"))\n",
    "b = int(input(\"Dame el valor de b: \"))\n",
    "resultado = a + b\n",
    "print(\"El resultado es: \"+str(resultado))"
   ]
  },
  {
   "cell_type": "code",
   "execution_count": 15,
   "id": "218033e7",
   "metadata": {},
   "outputs": [
    {
     "data": {
      "text/plain": [
       "[7,\n",
       " 6,\n",
       " 'holi',\n",
       " 5.4,\n",
       " 'cualquier cadena',\n",
       " ['python', 'sabado'],\n",
       " 7,\n",
       " 'soy un elemento']"
      ]
     },
     "execution_count": 15,
     "metadata": {},
     "output_type": "execute_result"
    }
   ],
   "source": [
    "lista_1 = [7, 6, \"holi\", 5.4, \"cualquier cadena\", [\"python\", \"sabado\"], 7]\n",
    "# append() -> agrega un elemento al final de la lista\n",
    "lista_1.append(\"soy un elemento\")\n",
    "#pop() -> quita un elemento al final de la lista\n",
    "#lista_1.pop()\n",
    "lista_1"
   ]
  },
  {
   "cell_type": "code",
   "execution_count": 17,
   "id": "a0459f3f",
   "metadata": {},
   "outputs": [
    {
     "data": {
      "text/plain": [
       "2"
      ]
     },
     "execution_count": 17,
     "metadata": {},
     "output_type": "execute_result"
    }
   ],
   "source": [
    "# count() -> cuenta el elemento que se repite\n",
    "lista_1.count(7)"
   ]
  },
  {
   "cell_type": "code",
   "execution_count": 18,
   "id": "6235229b",
   "metadata": {},
   "outputs": [
    {
     "data": {
      "text/plain": [
       "2"
      ]
     },
     "execution_count": 18,
     "metadata": {},
     "output_type": "execute_result"
    }
   ],
   "source": [
    "# index() -> devuelve el indice donde se encuentra el elemento\n",
    "lista_1.index(\"holi\")"
   ]
  },
  {
   "cell_type": "code",
   "execution_count": 20,
   "id": "92de893e",
   "metadata": {},
   "outputs": [
    {
     "data": {
      "text/plain": [
       "[7,\n",
       " 6,\n",
       " 800000,\n",
       " 'holi',\n",
       " 5.4,\n",
       " 'cualquier cadena',\n",
       " ['python', 'sabado'],\n",
       " 7,\n",
       " 'soy un elemento']"
      ]
     },
     "execution_count": 20,
     "metadata": {},
     "output_type": "execute_result"
    }
   ],
   "source": [
    "# insert(i,x) -> i es el indice donde va insertar un elemento y x sera el valor que va ingresar\n",
    "lista_1.insert(2, 800000)\n",
    "lista_1"
   ]
  },
  {
   "cell_type": "code",
   "execution_count": 21,
   "id": "10f8e29a",
   "metadata": {
    "scrolled": true
   },
   "outputs": [
    {
     "data": {
      "text/plain": [
       "[7,\n",
       " 6,\n",
       " 800000,\n",
       " 5.4,\n",
       " 'cualquier cadena',\n",
       " ['python', 'sabado'],\n",
       " 7,\n",
       " 'soy un elemento']"
      ]
     },
     "execution_count": 21,
     "metadata": {},
     "output_type": "execute_result"
    }
   ],
   "source": [
    "# remove(x) -> remuieve el elementox en nuestra lista\n",
    "lista_1.remove(\"holi\")\n",
    "lista_1"
   ]
  },
  {
   "cell_type": "code",
   "execution_count": 23,
   "id": "60293b19",
   "metadata": {},
   "outputs": [],
   "source": [
    "tupla = (25, 60, \"holi\", (\"tupla\"), [\"python\"], 0.2, 25)"
   ]
  },
  {
   "cell_type": "code",
   "execution_count": 26,
   "id": "a7533f83",
   "metadata": {},
   "outputs": [
    {
     "data": {
      "text/plain": [
       "2"
      ]
     },
     "execution_count": 26,
     "metadata": {},
     "output_type": "execute_result"
    }
   ],
   "source": [
    "# count() -> cuenta el elemento que se repite\n",
    "tupla.count(25)"
   ]
  },
  {
   "cell_type": "markdown",
   "id": "bb50e316",
   "metadata": {},
   "source": [
    "### Diccionarios"
   ]
  },
  {
   "cell_type": "code",
   "execution_count": null,
   "id": "2fd2018a",
   "metadata": {},
   "outputs": [],
   "source": [
    "password = (1234, \"qwerty\", \"mi_contrasenia\")"
   ]
  },
  {
   "cell_type": "code",
   "execution_count": 28,
   "id": "14e86069",
   "metadata": {},
   "outputs": [
    {
     "name": "stdout",
     "output_type": "stream",
     "text": [
      "Mi nombre es: Alejandro\n",
      "Mi edad es: 23 años\n",
      "Yo me dedico a: Tallerista\n",
      "Mis contrasenias son: 1234 y qwerty\n"
     ]
    }
   ],
   "source": [
    "# Es un conjunto de elementos identificados por clave : valor\n",
    "mi_diccionario = {\"clave\":\"valor\"}\n",
    "diccionario = {\"nombre\":\"Alejandro\", \"edad\": 23, \"ocupacion\":\"Tallerista\", \"contrasenias\": (\"1234\", \"qwerty\")}\n",
    "# Creo un diccionario con sus datos y deben de imprimir sus datos en un print\n",
    "print(\"Mi nombre es: \"+diccionario[\"nombre\"])\n",
    "print(\"Mi edad es: \"+str(diccionario[\"edad\"])+\" años\")\n",
    "print(\"Yo me dedico a: \"+diccionario[\"ocupacion\"])\n",
    "print(\"Mis contrasenias son: \"+diccionario[\"contrasenias\"][0]+\" y \"+diccionario[\"contrasenias\"][1])"
   ]
  },
  {
   "cell_type": "markdown",
   "id": "fa73bf50",
   "metadata": {},
   "source": [
    "### Ciclo if\n",
    "Nos permite tomar decisiones para controlar el flujo del programa. Se determina con base a los valores True o False"
   ]
  },
  {
   "cell_type": "markdown",
   "id": "66137607",
   "metadata": {},
   "source": [
    "### Identación\n",
    "La identación es el espacio que va determinar el bloque de un ciclo o una función.\n",
    "Esta se representa por 4 veces la tecla espacio o 1 vez la tecla tab."
   ]
  },
  {
   "cell_type": "markdown",
   "id": "057cf442",
   "metadata": {},
   "source": [
    "### Condiciones\n",
    "* Igual == Cuando las variables son iguales\n",
    "* Diferente != Cuando las variables no son iguales\n",
    "* Mayor que > Cuando la variable de la izquierda es mayor que la derecha\n",
    "* Menor que < Cuando la variable de la izquierda es menor que la derecha\n",
    "* Mayor o igual que >= Cuando la variable de la izquierda es mayor o igual que la derecha\n",
    "* Menor o igual que <= Cuando la variable de la izquierda es menor o igual que la derecha"
   ]
  },
  {
   "cell_type": "markdown",
   "id": "8901d1c1",
   "metadata": {},
   "source": [
    "### Operadores lógicos\n",
    "* Condicion1 and Condicion2 Es válido cuando la Condicion1 Y la Condicion2 son verdaderas. Las dos se deben de cumplir.\n",
    "* Condicion1 or Condicion2 Es válido cuando la Condicion1 O la Condicion2 son verdaderas. Cualquiera de las dos se cumplen."
   ]
  },
  {
   "cell_type": "code",
   "execution_count": 10,
   "id": "cfd0563f",
   "metadata": {},
   "outputs": [
    {
     "data": {
      "text/plain": [
       "True"
      ]
     },
     "execution_count": 10,
     "metadata": {},
     "output_type": "execute_result"
    }
   ],
   "source": [
    "a = 9\n",
    "b = 9\n",
    "a == b\n",
    "# = es la asignación\n",
    "# == es la igualdad"
   ]
  },
  {
   "cell_type": "code",
   "execution_count": 11,
   "id": "a8a486d5",
   "metadata": {},
   "outputs": [
    {
     "name": "stdout",
     "output_type": "stream",
     "text": [
      "La variable es True!!!\n"
     ]
    }
   ],
   "source": [
    "variable = True\n",
    "if(variable == True):\n",
    "    print(\"La variable es True!!!\")\n",
    "else:\n",
    "    print(\"La variable es False!!\")"
   ]
  },
  {
   "cell_type": "code",
   "execution_count": 24,
   "id": "34a3f817",
   "metadata": {},
   "outputs": [
    {
     "name": "stdout",
     "output_type": "stream",
     "text": [
      "Define tu altura en centimetros: 231\n",
      "Aviso. Ingresa una altura correcta.\n"
     ]
    }
   ],
   "source": [
    "# Programa que determina si tu altura es la adecuada para entrar a un juego\n",
    "altura = int(input(\"Define tu altura en centimetros: \"))\n",
    "# Altura debe ser mayor o igual que 120\n",
    "if(altura >= 120 and altura <= 230):\n",
    "    print(\"Puedes acceder al juego!!!\")\n",
    "elif(altura < 120 and altura >= 100):\n",
    "    print(\"No puedes acceder al juego!!!\")\n",
    "else:\n",
    "    print(\"Aviso. Ingresa una altura correcta.\")"
   ]
  },
  {
   "cell_type": "code",
   "execution_count": 21,
   "id": "b1715a12",
   "metadata": {},
   "outputs": [
    {
     "data": {
      "text/plain": [
       "99"
      ]
     },
     "execution_count": 21,
     "metadata": {},
     "output_type": "execute_result"
    }
   ],
   "source": [
    "altura"
   ]
  },
  {
   "cell_type": "markdown",
   "id": "a55fc7ea",
   "metadata": {},
   "source": [
    "### Ciclo for\n",
    "Repetirá un bloque de código de 1 hasta N cantidad de veces"
   ]
  },
  {
   "cell_type": "code",
   "execution_count": 6,
   "id": "6fd19f84",
   "metadata": {},
   "outputs": [
    {
     "name": "stdout",
     "output_type": "stream",
     "text": [
      "0\n",
      "2\n",
      "4\n",
      "6\n",
      "8\n",
      "---------------------\n",
      "0\n",
      "1\n",
      "2\n",
      "3\n",
      "4\n"
     ]
    }
   ],
   "source": [
    "# for i = 0; i<10; i++\n",
    "# Nos vamos ha apoyar de una función llamada range (inicio, fin, decuantoencuanto)\n",
    "for i in range(0,10,2):\n",
    "    print(i)\n",
    "print(\"---------------------\")\n",
    "for i in range(5): # Toma por defecto que inicie en 0 y sea menos que 10\n",
    "    print(i)"
   ]
  },
  {
   "cell_type": "code",
   "execution_count": 5,
   "id": "637f1e5c",
   "metadata": {},
   "outputs": [
    {
     "name": "stdout",
     "output_type": "stream",
     "text": [
      "python\n",
      "10\n",
      "hola\n",
      "2.2\n"
     ]
    }
   ],
   "source": [
    "lista = [\"python\", 10, \"hola\", 2.2]\n",
    "for i in lista:\n",
    "    print(i)"
   ]
  },
  {
   "cell_type": "code",
   "execution_count": 23,
   "id": "e1033347",
   "metadata": {},
   "outputs": [
    {
     "name": "stdout",
     "output_type": "stream",
     "text": [
      "8.833333333333334\n"
     ]
    }
   ],
   "source": [
    "suma = 0\n",
    "\n",
    "promedio = [10,10,9,10,8,6]\n",
    "\n",
    "for i in promedio:\n",
    "    suma = suma + i\n",
    "    resultado = suma / i\n",
    "\n",
    "print(resultado)"
   ]
  },
  {
   "cell_type": "code",
   "execution_count": 24,
   "id": "1386bb66",
   "metadata": {},
   "outputs": [
    {
     "name": "stdout",
     "output_type": "stream",
     "text": [
      "El resultado es: 8.833333333333334\n"
     ]
    }
   ],
   "source": [
    "promedio = [10,10,9,10,8,6]\n",
    "suma = 0\n",
    "for i in promedio:\n",
    "    suma = suma + i\n",
    "# len() regresa el numero de elementos que contiene la lista\n",
    "n = len(promedio)\n",
    "resultado = suma / n\n",
    "print(\"El resultado es: \"+str(resultado))"
   ]
  },
  {
   "cell_type": "code",
   "execution_count": 25,
   "id": "f956acb1",
   "metadata": {},
   "outputs": [
    {
     "name": "stdout",
     "output_type": "stream",
     "text": [
      "Dame la cantidad de calificaciones5\n"
     ]
    }
   ],
   "source": [
    "n = int(input(\"Dame la cantidad de calificaciones\"))"
   ]
  },
  {
   "cell_type": "code",
   "execution_count": 26,
   "id": "9c7e6f22",
   "metadata": {},
   "outputs": [
    {
     "name": "stdout",
     "output_type": "stream",
     "text": [
      "5\n"
     ]
    }
   ],
   "source": [
    "print(n)"
   ]
  },
  {
   "cell_type": "markdown",
   "id": "871f4c63",
   "metadata": {},
   "source": [
    "### While\n",
    "Repite un bloque de código MIENTRAS se cumpla la condición"
   ]
  },
  {
   "cell_type": "code",
   "execution_count": 28,
   "id": "9ffe8aac",
   "metadata": {},
   "outputs": [
    {
     "name": "stdout",
     "output_type": "stream",
     "text": [
      "0\n",
      "1\n",
      "2\n",
      "3\n",
      "4\n",
      "5\n",
      "6\n",
      "7\n",
      "8\n",
      "9\n"
     ]
    }
   ],
   "source": [
    "detener = 0\n",
    "while detener < 10:\n",
    "    print(detener)\n",
    "    detener = detener + 1"
   ]
  },
  {
   "cell_type": "code",
   "execution_count": 32,
   "id": "9a4115c6",
   "metadata": {},
   "outputs": [
    {
     "name": "stdout",
     "output_type": "stream",
     "text": [
      "Ingrese su edad: -5\n",
      "Ingrese una edad correcta\n",
      "Vuelva a ingresar su edad: 200\n",
      "Ingrese una edad correcta\n",
      "Vuelva a ingresar su edad: 47\n",
      "Su edad es: 47\n"
     ]
    }
   ],
   "source": [
    "edad = int(input(\"Ingrese su edad: \"))\n",
    "while edad > 100 or edad < 0:\n",
    "    print(\"Ingrese una edad correcta\")\n",
    "    edad = int(input(\"Vuelva a ingresar su edad: \"))\n",
    "print(\"Su edad es: \"+str(edad))"
   ]
  },
  {
   "cell_type": "code",
   "execution_count": 2,
   "id": "754fe68c",
   "metadata": {},
   "outputs": [
    {
     "name": "stdout",
     "output_type": "stream",
     "text": [
      "Suma: 14\n"
     ]
    }
   ],
   "source": [
    "# f(x) = x+1\n",
    "# f(20) = 20+1\n",
    "# puede o no tener argumento -> x\n",
    "def funcion(numerote):\n",
    "    # numerote -> es como el alias del argumento a tratar\n",
    "    # solamente existe en la función\n",
    "    suma = numerote + 4\n",
    "    print(\"Suma: \"+str(suma))\n",
    "\n",
    "funcion(10)"
   ]
  },
  {
   "cell_type": "code",
   "execution_count": 6,
   "id": "c8b303d2",
   "metadata": {},
   "outputs": [
    {
     "name": "stdout",
     "output_type": "stream",
     "text": [
      "La potencia del número elevada al cuadrado es: 27\n"
     ]
    }
   ],
   "source": [
    "# f(x) = x^2\n",
    "def funcion(numero, potencia):\n",
    "    #resultado = numero**2\n",
    "    resultado = numero**potencia\n",
    "    print(\"La potencia del número elevada es: \"+str(resultado))\n",
    "    #return None\n",
    "    \n",
    "funcion(3,3)"
   ]
  },
  {
   "cell_type": "code",
   "execution_count": 8,
   "id": "9cadb723",
   "metadata": {},
   "outputs": [
    {
     "name": "stdout",
     "output_type": "stream",
     "text": [
      "Resultado: 9\n"
     ]
    }
   ],
   "source": [
    "def potencia(x, pot):\n",
    "    resultado = x**pot\n",
    "    return resultado\n",
    "\n",
    "variable = potencia(3,2)\n",
    "print(\"Resultado: \"+str(variable))"
   ]
  },
  {
   "cell_type": "code",
   "execution_count": 21,
   "id": "b9fb05b7",
   "metadata": {},
   "outputs": [
    {
     "name": "stdout",
     "output_type": "stream",
     "text": [
      "Ingrese el primer número: 12\n",
      "Ingrese el segundo número: 3\n",
      "Resultado: 9\n"
     ]
    }
   ],
   "source": [
    "# Generar 4 funciones: sum, resta, multiplicación y división\n",
    "# Cada una recibe 2 argumentos que seran operados\n",
    "# Regresar el resultado de la función con return\n",
    "\n",
    "\"\"\"numero1 = int(input(\"Ingrese el primer número: \"))\n",
    "numero2 = int(input(\"Ingrese el segundo número: \"))\n",
    "\n",
    "def operacion(numero1, numero2):\n",
    "    resultado = numero1 - numero2\n",
    "    return resultado\n",
    "\n",
    "variable = operacion(numero1, numero2)\n",
    "print(\"Resultado: \"+str(variable))\"\"\"\n",
    "\n",
    "def suma(a, b):\n",
    "         resultado = a + b\n",
    "         return resultado\n",
    "\n",
    "def resta(a, b):\n",
    "         resultado = a - b\n",
    "         return resultado\n",
    "        \n",
    "def multiplicacion(a, b):\n",
    "         resultado = a * b\n",
    "         return resultao\n",
    "        \n",
    "def division(a, b):\n",
    "         resultado = a / b\n",
    "         return resultado\n",
    "\n",
    "\n",
    "while True:\n",
    "    # \\n salto de linea\n",
    "    print(\"Bienvenid@ a la calculadora :D \\n Ingrese una opción\")\n",
    "    print(\"Opción 1: Sumar\")\n",
    "    print(\"Opción 2: Restar\")\n",
    "    print(\"Opción 3: Multiplicar\")\n",
    "    print(\"Opción 4: Dividir\")\n",
    "    print(\"Opción 5: Salir\")\n",
    "    opcion = int(input(\"Elija una opción\"))\n",
    "    numero1 = int(input(\"Ingrese el numero 1: \"))\n",
    "    numero2 = int(input(\"Ingrese el numero 2: \"))\n",
    "    if(opcion == 1)\n",
    "        #sumar\n",
    "        print(\"Realizando suma...\")\n",
    "        suma(numero1, numero2)\n",
    "        print(\"El resultado es: \"+str)\n",
    "    elif(opcion == 2)\n",
    "        #restar\n",
    "        print(\"Realizando resta...\")\n",
    "        resta(numero1, numero2)\n",
    "    elif(opcion == 3)\n",
    "        #multiplicar\n",
    "        print(\"Realizando multiplicación...\")\n",
    "        multiplicacion(numero1, numero2)\n",
    "    elif(opcion == 4)\n",
    "        #dividir\n",
    "        print(\"Realizando división...\")\n",
    "        division(numero1, numero2)\n",
    "    elif(opcion == 5)\n",
    "        #salir\n",
    "        print(\"Gracias por usar nuestra calculadora :D\")\n",
    "        break"
   ]
  },
  {
   "cell_type": "code",
   "execution_count": null,
   "id": "acd810d5",
   "metadata": {},
   "outputs": [],
   "source": []
  }
 ],
 "metadata": {
  "kernelspec": {
   "display_name": "Python 3 (ipykernel)",
   "language": "python",
   "name": "python3"
  },
  "language_info": {
   "codemirror_mode": {
    "name": "ipython",
    "version": 3
   },
   "file_extension": ".py",
   "mimetype": "text/x-python",
   "name": "python",
   "nbconvert_exporter": "python",
   "pygments_lexer": "ipython3",
   "version": "3.9.5"
  }
 },
 "nbformat": 4,
 "nbformat_minor": 5
}
