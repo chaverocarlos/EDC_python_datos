{
 "cells": [
  {
   "cell_type": "markdown",
   "id": "97b1875b",
   "metadata": {},
   "source": [
    "### Introducción a pandas y matplotlib"
   ]
  },
  {
   "cell_type": "code",
   "execution_count": 5,
   "id": "d45ad0d9",
   "metadata": {},
   "outputs": [],
   "source": [
    "import pandas as pd"
   ]
  },
  {
   "cell_type": "code",
   "execution_count": 9,
   "id": "b4789e24",
   "metadata": {},
   "outputs": [],
   "source": [
    "datos = {'nombre':['hamburguesas', 'hotdogs', 'alitas', 'papas a las francesas', 'platanos fritos'],\n",
    "         'precio':[50, 25, 50, 35, 30],\n",
    "         'vendidos':[5, 4, 5, 8, 2],\n",
    "         'disponibilidad':['viernes', 'sabados', 'sabados', ['viernes', 'sabados'], ['viernes', 'sabados']]\n",
    "        }"
   ]
  },
  {
   "cell_type": "code",
   "execution_count": 12,
   "id": "e3b6638e",
   "metadata": {},
   "outputs": [],
   "source": [
    "df = pd.DataFrame(datos)"
   ]
  },
  {
   "cell_type": "code",
   "execution_count": 25,
   "id": "dbbbb1a5",
   "metadata": {
    "scrolled": true
   },
   "outputs": [
    {
     "data": {
      "text/plain": [
       "array([50, 25, 35, 30])"
      ]
     },
     "execution_count": 25,
     "metadata": {},
     "output_type": "execute_result"
    }
   ],
   "source": [
    "df[\"precio\"].unique()"
   ]
  },
  {
   "cell_type": "code",
   "execution_count": 26,
   "id": "8f276258",
   "metadata": {},
   "outputs": [
    {
     "data": {
      "text/plain": [
       "4.8"
      ]
     },
     "execution_count": 26,
     "metadata": {},
     "output_type": "execute_result"
    }
   ],
   "source": [
    "df[\"vendidos\"].mean()"
   ]
  },
  {
   "cell_type": "code",
   "execution_count": 29,
   "id": "71732728",
   "metadata": {},
   "outputs": [
    {
     "data": {
      "text/html": [
       "<div>\n",
       "<style scoped>\n",
       "    .dataframe tbody tr th:only-of-type {\n",
       "        vertical-align: middle;\n",
       "    }\n",
       "\n",
       "    .dataframe tbody tr th {\n",
       "        vertical-align: top;\n",
       "    }\n",
       "\n",
       "    .dataframe thead th {\n",
       "        text-align: right;\n",
       "    }\n",
       "</style>\n",
       "<table border=\"1\" class=\"dataframe\">\n",
       "  <thead>\n",
       "    <tr style=\"text-align: right;\">\n",
       "      <th></th>\n",
       "      <th>nombre</th>\n",
       "      <th>precio</th>\n",
       "      <th>vendidos</th>\n",
       "      <th>disponibilidad</th>\n",
       "    </tr>\n",
       "  </thead>\n",
       "  <tbody>\n",
       "    <tr>\n",
       "      <th>0</th>\n",
       "      <td>hamburguesas</td>\n",
       "      <td>50</td>\n",
       "      <td>5</td>\n",
       "      <td>viernes</td>\n",
       "    </tr>\n",
       "    <tr>\n",
       "      <th>1</th>\n",
       "      <td>hotdogs</td>\n",
       "      <td>25</td>\n",
       "      <td>4</td>\n",
       "      <td>sabados</td>\n",
       "    </tr>\n",
       "    <tr>\n",
       "      <th>2</th>\n",
       "      <td>alitas</td>\n",
       "      <td>50</td>\n",
       "      <td>5</td>\n",
       "      <td>sabados</td>\n",
       "    </tr>\n",
       "    <tr>\n",
       "      <th>3</th>\n",
       "      <td>papas a las francesas</td>\n",
       "      <td>35</td>\n",
       "      <td>8</td>\n",
       "      <td>[viernes, sabados]</td>\n",
       "    </tr>\n",
       "    <tr>\n",
       "      <th>4</th>\n",
       "      <td>platanos fritos</td>\n",
       "      <td>30</td>\n",
       "      <td>2</td>\n",
       "      <td>[viernes, sabados]</td>\n",
       "    </tr>\n",
       "  </tbody>\n",
       "</table>\n",
       "</div>"
      ],
      "text/plain": [
       "                  nombre  precio  vendidos      disponibilidad\n",
       "0           hamburguesas      50         5             viernes\n",
       "1                hotdogs      25         4             sabados\n",
       "2                 alitas      50         5             sabados\n",
       "3  papas a las francesas      35         8  [viernes, sabados]\n",
       "4        platanos fritos      30         2  [viernes, sabados]"
      ]
     },
     "execution_count": 29,
     "metadata": {},
     "output_type": "execute_result"
    }
   ],
   "source": [
    "df.head()"
   ]
  },
  {
   "cell_type": "markdown",
   "id": "6dd3a8e0",
   "metadata": {},
   "source": [
    "##### funciones básicas\n",
    "- head\n",
    "- count\n",
    "- max\n",
    "- min\n",
    "- unique\n",
    "- median\n",
    "- mode\n",
    "- std\n",
    "- var"
   ]
  },
  {
   "cell_type": "markdown",
   "id": "fdbf22d5",
   "metadata": {},
   "source": [
    "##### ejercicios\n",
    "- ¿Cuál es el precio máximo de nuestros productos?\n",
    "- ¿Qué producto se vende menos?\n",
    "- ¿Media de ventas?\n",
    "- ¿Cuál es la moda de los productos vendidos?\n",
    "- Desviación estandar de los precios"
   ]
  },
  {
   "cell_type": "code",
   "execution_count": 59,
   "id": "1318379b",
   "metadata": {},
   "outputs": [
    {
     "name": "stdout",
     "output_type": "stream",
     "text": [
      "Precio máximo \n",
      "                        precio  vendidos      disponibilidad\n",
      "nombre                                                     \n",
      "alitas                     50         5             sabados\n",
      "hamburguesas               50         5             viernes\n",
      "hotdogs                    25         4             sabados\n",
      "papas a las francesas      35         8  [viernes, sabados]\n",
      "platanos fritos            30         2  [viernes, sabados]\n",
      "Producto menos vendido \n",
      " 2\n",
      "Media de los producto vendidos 4.8\n",
      "Moda de los producto vendidos 0    5\n",
      "dtype: int64\n",
      "Desviación estandar 11.510864433221338\n"
     ]
    }
   ],
   "source": [
    "# ejercicio 1\n",
    "print(\"Precio máximo \\n\", df.groupby(\"nombre\").max())\n",
    "#df[\"precio\"].max()\n",
    "# ejercicio 2\n",
    "print(\"Producto menos vendido \\n\", df[\"vendidos\"].min())\n",
    "#df[\"vendidos\"].min()\n",
    "# ejercicio 3\n",
    "print(\"Media de los producto vendidos\", df[\"vendidos\"].mean())\n",
    "#df[\"vendidos\"].mean()\n",
    "# ejercicio 4\n",
    "print(\"Moda de los producto vendidos\", df[\"vendidos\"].mode())\n",
    "#df[\"vendidos\"].mode()\n",
    "# ejercicio 5\n",
    "print(\"Desviación estandar\", df[\"precio\"].std())\n",
    "#df[\"precios\"].std()"
   ]
  },
  {
   "cell_type": "code",
   "execution_count": 50,
   "id": "1fd3c8de",
   "metadata": {},
   "outputs": [
    {
     "data": {
      "text/html": [
       "<div>\n",
       "<style scoped>\n",
       "    .dataframe tbody tr th:only-of-type {\n",
       "        vertical-align: middle;\n",
       "    }\n",
       "\n",
       "    .dataframe tbody tr th {\n",
       "        vertical-align: top;\n",
       "    }\n",
       "\n",
       "    .dataframe thead th {\n",
       "        text-align: right;\n",
       "    }\n",
       "</style>\n",
       "<table border=\"1\" class=\"dataframe\">\n",
       "  <thead>\n",
       "    <tr style=\"text-align: right;\">\n",
       "      <th></th>\n",
       "      <th>nombre</th>\n",
       "      <th>vendidos</th>\n",
       "      <th>disponibilidad</th>\n",
       "    </tr>\n",
       "    <tr>\n",
       "      <th>precio</th>\n",
       "      <th></th>\n",
       "      <th></th>\n",
       "      <th></th>\n",
       "    </tr>\n",
       "  </thead>\n",
       "  <tbody>\n",
       "    <tr>\n",
       "      <th>25</th>\n",
       "      <td>hotdogs</td>\n",
       "      <td>4</td>\n",
       "      <td>sabados</td>\n",
       "    </tr>\n",
       "    <tr>\n",
       "      <th>30</th>\n",
       "      <td>platanos fritos</td>\n",
       "      <td>2</td>\n",
       "      <td>[viernes, sabados]</td>\n",
       "    </tr>\n",
       "    <tr>\n",
       "      <th>35</th>\n",
       "      <td>papas a las francesas</td>\n",
       "      <td>8</td>\n",
       "      <td>[viernes, sabados]</td>\n",
       "    </tr>\n",
       "    <tr>\n",
       "      <th>50</th>\n",
       "      <td>hamburguesas</td>\n",
       "      <td>5</td>\n",
       "      <td>viernes</td>\n",
       "    </tr>\n",
       "  </tbody>\n",
       "</table>\n",
       "</div>"
      ],
      "text/plain": [
       "                       nombre  vendidos      disponibilidad\n",
       "precio                                                     \n",
       "25                    hotdogs         4             sabados\n",
       "30            platanos fritos         2  [viernes, sabados]\n",
       "35      papas a las francesas         8  [viernes, sabados]\n",
       "50               hamburguesas         5             viernes"
      ]
     },
     "execution_count": 50,
     "metadata": {},
     "output_type": "execute_result"
    }
   ],
   "source": [
    "df.groupby(\"precio\").max()"
   ]
  },
  {
   "cell_type": "code",
   "execution_count": 60,
   "id": "1894e7f8",
   "metadata": {},
   "outputs": [],
   "source": [
    "from matplotlib.pyplot import plot"
   ]
  },
  {
   "cell_type": "code",
   "execution_count": null,
   "id": "ef87e54d",
   "metadata": {},
   "outputs": [],
   "source": []
  }
 ],
 "metadata": {
  "kernelspec": {
   "display_name": "Python 3 (ipykernel)",
   "language": "python",
   "name": "python3"
  },
  "language_info": {
   "codemirror_mode": {
    "name": "ipython",
    "version": 3
   },
   "file_extension": ".py",
   "mimetype": "text/x-python",
   "name": "python",
   "nbconvert_exporter": "python",
   "pygments_lexer": "ipython3",
   "version": "3.9.5"
  }
 },
 "nbformat": 4,
 "nbformat_minor": 5
}
